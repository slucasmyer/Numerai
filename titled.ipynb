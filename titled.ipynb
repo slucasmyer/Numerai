{
 "cells": [
  {
   "cell_type": "code",
   "execution_count": null,
   "metadata": {},
   "outputs": [],
   "source": [
    "# import relevant libraries\n",
    "!pip install numerapi\n",
    "!pip install ondemand\n",
    "!pip install py_vollib\n",
    "!pip install selenium\n",
    "# !pip install xgboost\n",
    "import os\n",
    "import re\n",
    "import sys\n",
    "import glob\n",
    "import json\n",
    "import time\n",
    "import math\n",
    "import shutil\n",
    "import config\n",
    "import random\n",
    "import pickle\n",
    "import ondemand\n",
    "import numerapi\n",
    "import datetime\n",
    "import py_vollib\n",
    "import numpy as np\n",
    "import scipy as sp\n",
    "import pandas as pd\n",
    "import requests as rq\n",
    "import seaborn as sns\n",
    "import statsmodels.api as sm\n",
    "import matplotlib.pyplot as plt\n",
    "from os import system   \n",
    "from math import floor\n",
    "from scipy import stats\n",
    "from copy import deepcopy\n",
    "from datetime import datetime\n",
    "from sklearn import linear_model\n",
    "from sklearn import neural_network\n",
    "from sklearn import ensemble\n",
    "from bs4 import BeautifulSoup as bs\n",
    "from sklearn import svm\n",
    "from sklearn.decomposition import PCA\n",
    "from statsmodels.formula.api import ols\n",
    "from sklearn import metrics as sklMetrics\n",
    "from sklearn.decomposition import TruncatedSVD\n",
    "from sklearn.model_selection import GridSearchCV\n",
    "from sklearn.model_selection import cross_val_score\n",
    "from sklearn.model_selection import train_test_split\n",
    "from sklearn.preprocessing import StandardScaler, RobustScaler, MinMaxScaler\n",
    "from sklearn.linear_model import Lasso, BayesianRidge, LinearRegression, LogisticRegression\n",
    "from sklearn.model_selection import train_test_split\n",
    "from sklearn.pipeline import make_pipeline\n",
    "from sklearn.preprocessing import StandardScaler\n",
    "\n",
    "plt.style.use('seaborn')\n",
    "%matplotlib inline\n",
    "pd.set_option('display.max_columns', 1000)\n",
    "pd.set_option('display.max_rows', 1000)\n",
    "pd.set_option('display.max_columns', 200)\n",
    "pd.set_option('display.max_colwidth', 200)"
   ]
  },
  {
   "cell_type": "markdown",
   "metadata": {},
   "source": [
    "## Load Data"
   ]
  },
  {
   "cell_type": "code",
   "execution_count": null,
   "metadata": {},
   "outputs": [],
   "source": [
    "training_data = pd.read_csv(\"https://numerai-public-datasets.s3-us-west-2.amazonaws.com/latest_numerai_training_data.csv.xz\")\n",
    "training_data.head()"
   ]
  },
  {
   "cell_type": "code",
   "execution_count": null,
   "metadata": {},
   "outputs": [],
   "source": [
    "tournament_data = pd.read_csv(\"https://numerai-public-datasets.s3-us-west-2.amazonaws.com/latest_numerai_tournament_data.csv.xz\")\n",
    "tournament_data.head()"
   ]
  },
  {
   "cell_type": "code",
   "execution_count": null,
   "metadata": {},
   "outputs": [],
   "source": [
    "feature_cols = training_data.columns[training_data.columns.str.startswith('feature')]"
   ]
  },
  {
   "cell_type": "code",
   "execution_count": null,
   "metadata": {},
   "outputs": [],
   "source": [
    "training_features = training_data[feature_cols]\n",
    "live_features = tournament_data[feature_cols]"
   ]
  },
  {
   "cell_type": "markdown",
   "metadata": {},
   "source": [
    "## Sneetches Model (Multi-Layer Perceptron)"
   ]
  },
  {
   "cell_type": "code",
   "execution_count": null,
   "metadata": {},
   "outputs": [],
   "source": [
    "predictions = neural_network.MLPRegressor(max_iter=500).fit(training_features, training_data.target).predict(live_features)"
   ]
  },
  {
   "cell_type": "code",
   "execution_count": null,
   "metadata": {},
   "outputs": [],
   "source": [
    "predictions_df = tournament_data[\"id\"].to_frame()\n",
    "predictions_df[\"prediction_kazutsugi\"] = predictions"
   ]
  },
  {
   "cell_type": "code",
   "execution_count": null,
   "metadata": {},
   "outputs": [],
   "source": [
    "napi = numerapi.NumerAPI(public_id=config.PubKey, secret_key=config.SecKey)\n",
    "predictions_df.to_csv(\"predictions.csv\", index=False)\n",
    "submission_id = napi.upload_predictions(\"predictions.csv\", model_id=config.SneetchModID)"
   ]
  },
  {
   "cell_type": "markdown",
   "metadata": {},
   "source": [
    "## Same As Model (Gradient-Boosted tree)"
   ]
  },
  {
   "cell_type": "code",
   "execution_count": null,
   "metadata": {},
   "outputs": [],
   "source": [
    "predictions = ensemble.GradientBoostingRegressor(n_estimators=500).fit(training_features, training_data.target).predict(live_features)"
   ]
  },
  {
   "cell_type": "code",
   "execution_count": null,
   "metadata": {},
   "outputs": [],
   "source": [
    "predictions_df = tournament_data[\"id\"].to_frame()\n",
    "predictions_df[\"prediction_kazutsugi\"] = predictions"
   ]
  },
  {
   "cell_type": "code",
   "execution_count": null,
   "metadata": {},
   "outputs": [],
   "source": [
    "napi = numerapi.NumerAPI(public_id=config.PubKey, secret_key=config.SecKey)\n",
    "predictions_df.to_csv(\"predictions.csv\", index=False)\n",
    "submission_id = napi.upload_predictions(\"predictions.csv\", model_id=config.SameAsModID)"
   ]
  },
  {
   "cell_type": "markdown",
   "metadata": {},
   "source": [
    "## Sneetches Without Model (PCA/Gradient-Boosted Tree)"
   ]
  },
  {
   "cell_type": "code",
   "execution_count": null,
   "metadata": {},
   "outputs": [],
   "source": [
    "pca_model = PCA(n_components=30).fit(training_features, training_data.target)\n",
    "pca_train_x = pca_model.transform(training_features)\n",
    "pca_test_x = pca_model.transform(live_features)\n",
    "predictions = ensemble.GradientBoostingRegressor(n_estimators=500).fit(pca_train_x, training_data.target).predict(pca_test_x)"
   ]
  },
  {
   "cell_type": "code",
   "execution_count": null,
   "metadata": {},
   "outputs": [],
   "source": [
    "predictions_df = tournament_data[\"id\"].to_frame()\n",
    "predictions_df[\"prediction_kazutsugi\"] = predictions"
   ]
  },
  {
   "cell_type": "code",
   "execution_count": null,
   "metadata": {},
   "outputs": [],
   "source": [
    "napi = numerapi.NumerAPI(public_id=config.PubKey, secret_key=config.SecKey)\n",
    "predictions_df.to_csv(\"predictions.csv\", index=False)\n",
    "submission_id = napi.upload_predictions(\"predictions.csv\", model_id=config.SneetchWOModID)"
   ]
  },
  {
   "cell_type": "markdown",
   "metadata": {},
   "source": [
    "## Different Than Model (Random Forest)"
   ]
  },
  {
   "cell_type": "code",
   "execution_count": null,
   "metadata": {},
   "outputs": [],
   "source": [
    "predictions = ensemble.RandomForestRegressor(n_estimators=500).fit(training_features, training_data.target).predict(live_features)"
   ]
  },
  {
   "cell_type": "code",
   "execution_count": null,
   "metadata": {},
   "outputs": [],
   "source": [
    "predictions_df = tournament_data[\"id\"].to_frame()\n",
    "predictions_df[\"prediction_kazutsugi\"] = predictions"
   ]
  },
  {
   "cell_type": "code",
   "execution_count": null,
   "metadata": {},
   "outputs": [],
   "source": [
    "napi = numerapi.NumerAPI(public_id=config.PubKey, secret_key=config.SecKey)\n",
    "predictions_df.to_csv(\"predictions.csv\", index=False)\n",
    "submission_id = napi.upload_predictions(\"predictions.csv\", model_id=config.DifferentThan)"
   ]
  },
  {
   "cell_type": "markdown",
   "metadata": {},
   "source": [
    "## SneetchSemble (Voting Regressor)"
   ]
  },
  {
   "cell_type": "code",
   "execution_count": null,
   "metadata": {},
   "outputs": [],
   "source": [
    "loser = 'neg_root_mean_squared_error'\n",
    "\n",
    "pca_model = PCA(n_components=100).fit(training_features, training_data.target)\n",
    "pca_train_x = pca_model.transform(training_features)\n",
    "pca_test_x = pca_model.transform(live_features)"
   ]
  },
  {
   "cell_type": "code",
   "execution_count": null,
   "metadata": {},
   "outputs": [],
   "source": [
    "mlpr = GridSearchCV(estimator = neural_network.MLPRegressor(),\n",
    "                    param_grid = {'hidden_layer_sizes' : [(i,) for i in range(50, 151, 2)],\n",
    "                                  'alpha' : [i for i in range(.00005, .00016, .00001)],\n",
    "                                  'max_iter' : [i for i in range(150, 501, 5)]},\n",
    "                    cv = 10,\n",
    "                    scoring = loser,\n",
    "                    n_jobs= -1,\n",
    "                    verbosity=3)\n",
    "mlpr = mlpr.fit(pca_train_x, training_data.target).best_estimator_"
   ]
  },
  {
   "cell_type": "code",
   "execution_count": null,
   "metadata": {},
   "outputs": [],
   "source": [
    "gbr = GridSearchCV(estimator = ensemble.GradientBoostingRegressor(),\n",
    "                   param_grid = {'loss' : ['ls', 'lad', 'huber', 'quantile'],\n",
    "                                 'learning_rate' : [i for i in range(.05, .16, .01)],\n",
    "                                 'n_estimators' : [i for i in range(75, 501, 5)],\n",
    "                                 'min_samples_split' : [i for i in range(2, 11, 1)],\n",
    "                                 'min_samples_leaf' : [i for i in range(1,4,1)],\n",
    "                                 'max_depth' : [i for i in range(2, 11, 1)]},\n",
    "                   cv = 10,\n",
    "                   scoring = loser,\n",
    "                   n_jobs= -1,\n",
    "                   verbosity=3)\n",
    "gbr = gbr.fit(pca_train_x, training_data.target).best_estimator_"
   ]
  },
  {
   "cell_type": "code",
   "execution_count": null,
   "metadata": {},
   "outputs": [],
   "source": [
    "rfr = GridSearchCV(estimator = ensemble.RandomForestRegressor(),\n",
    "                   param_grid = {'n_estimators' : [i for i in range(75, 501, 5)],\n",
    "                                 'criterion' : ['mse', 'mae'],\n",
    "                                 'max_depth' : [i for i in range(2, 11, 1)],\n",
    "                                 'min_samples_split' : [i for i in range(2, 11, 1)],\n",
    "                                 'min_samples_leaf' : [i for i in range(1,4,1)]},\n",
    "                   cv = 10,\n",
    "                   scoring = loser,\n",
    "                   n_jobs= -1,\n",
    "                   verbosity=3)\n",
    "rfr = rfr.fit(pca_train_x, training_data.target).best_estimator_"
   ]
  },
  {
   "cell_type": "code",
   "execution_count": null,
   "metadata": {},
   "outputs": [],
   "source": [
    "svr = GridSearchCV(estimator = svm.SVR(),\n",
    "                   param_grid = {'kernel' : ['linear', 'poly', 'rbf', 'sigmoid'],\n",
    "                                 'degree' : [i for i in range(2, 6, 1)],\n",
    "                                 'gamma' : ['scale', 'auto'],\n",
    "                                 'epsilon' : [i for i in range(.05, .16, .01)],\n",
    "                                 'cache_size' : 500},\n",
    "                   cv = 10,\n",
    "                   scoring = loser,\n",
    "                   n_jobs= -1,\n",
    "                   verbosity=3)\n",
    "svr = svr.fit(pca_train_x, training_data.target).best_estimator_"
   ]
  },
  {
   "cell_type": "code",
   "execution_count": null,
   "metadata": {},
   "outputs": [],
   "source": [
    "brr = GridSearchCV(estimator = BayesianRidge(),\n",
    "                   param_grid = {'n_iter' : [i for i in range(250, 501, 5)],\n",
    "                                 'fit_intercept' : [True, False],\n",
    "                                 'normalize' : [True, False]},\n",
    "                   cv = 10,\n",
    "                   scoring = loser,\n",
    "                   n_jobs= -1,\n",
    "                   verbosity=3)\n",
    "brr = brr.fit(pca_train_x, training_data.target).best_estimator_"
   ]
  },
  {
   "cell_type": "code",
   "execution_count": null,
   "metadata": {},
   "outputs": [],
   "source": [
    "lr = GridSearchCV(estimator = Lasso(),\n",
    "                  param_grid = {'alpha' : [i for i in range(.05, 1.6, .01)],\n",
    "                                'fit_intercept' : [True, False],\n",
    "                                'normalize' : [True, False],\n",
    "                                'max_iter' : [i for i in range(750, 1251, 5)]},\n",
    "                  cv = 10,\n",
    "                  scoring = loser,\n",
    "                  n_jobs= -1,\n",
    "                  verbosity=3)\n",
    "lr = lr.fit(pca_train_x, training_data.target).best_estimator_"
   ]
  },
  {
   "cell_type": "code",
   "execution_count": null,
   "metadata": {},
   "outputs": [],
   "source": [
    "vr = GridSearchCV(estimator = VotingRegressor(),\n",
    "                  param_grid = {'estimators' : [[('mlpr', mlpr),\n",
    "                                                 ('gbr', gbr),\n",
    "                                                 ('rfr', rfr),\n",
    "                                                 ('svr', svr),\n",
    "                                                 ('brr', brr),\n",
    "                                                 ('lr', lr)]],\n",
    "                                'weights' : [[.25, .15, .15, .15, .15, .15],\n",
    "                                             [.15, .25, .15, .15, .15, .15],\n",
    "                                             [.15, .15, .25, .15, .15, .15],\n",
    "                                             [.15, .15, .15, .25, .15, .15],\n",
    "                                             [.15, .15, .15, .15, .25, .15],\n",
    "                                             [.15, .15, .15, .15, .15, .25]],\n",
    "                                'n_jobs' : -1},\n",
    "                  cv = 10,\n",
    "                  scoring = loser,\n",
    "                  n_jobs= -1,\n",
    "                  verbosity=3)\n",
    "vr = vr.fit(pca_train_x, training_data.target).best_estimator_"
   ]
  },
  {
   "cell_type": "code",
   "execution_count": null,
   "metadata": {},
   "outputs": [],
   "source": [
    "predictions = vr.fit(pca_train_x, training_data.target).predict(pca_test_x)"
   ]
  },
  {
   "cell_type": "code",
   "execution_count": null,
   "metadata": {},
   "outputs": [],
   "source": [
    "predictions_df = tournament_data[\"id\"].to_frame()\n",
    "predictions_df[\"prediction_kazutsugi\"] = predictions"
   ]
  },
  {
   "cell_type": "code",
   "execution_count": null,
   "metadata": {},
   "outputs": [],
   "source": [
    "napi = numerapi.NumerAPI(public_id=config.PubKey, secret_key=config.SecKey)\n",
    "predictions_df.to_csv(\"predictions.csv\", index=False)\n",
    "submission_id = napi.upload_predictions(\"predictions.csv\", model_id=config.SneetchSemble)"
   ]
  }
 ],
 "metadata": {
  "kernelspec": {
   "display_name": "Python 3",
   "language": "python",
   "name": "python3"
  },
  "language_info": {
   "codemirror_mode": {
    "name": "ipython",
    "version": 3
   },
   "file_extension": ".py",
   "mimetype": "text/x-python",
   "name": "python",
   "nbconvert_exporter": "python",
   "pygments_lexer": "ipython3",
   "version": "3.7.4"
  }
 },
 "nbformat": 4,
 "nbformat_minor": 2
}
