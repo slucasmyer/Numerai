{
 "cells": [
  {
   "cell_type": "code",
   "execution_count": 1,
   "metadata": {},
   "outputs": [
    {
     "name": "stdout",
     "output_type": "stream",
     "text": [
      "Requirement already satisfied: numerapi in /Users/lucas/opt/anaconda3/lib/python3.7/site-packages (2.4.2)\n",
      "Requirement already satisfied: requests in /Users/lucas/opt/anaconda3/lib/python3.7/site-packages (from numerapi) (2.22.0)\n",
      "Requirement already satisfied: click>=7.0 in /Users/lucas/opt/anaconda3/lib/python3.7/site-packages (from numerapi) (7.0)\n",
      "Requirement already satisfied: tqdm>=4.29.1 in /Users/lucas/opt/anaconda3/lib/python3.7/site-packages (from numerapi) (4.36.1)\n",
      "Requirement already satisfied: pytz in /Users/lucas/opt/anaconda3/lib/python3.7/site-packages (from numerapi) (2019.3)\n",
      "Requirement already satisfied: python-dateutil in /Users/lucas/opt/anaconda3/lib/python3.7/site-packages (from numerapi) (2.8.0)\n",
      "Requirement already satisfied: six>=1.5 in /Users/lucas/opt/anaconda3/lib/python3.7/site-packages (from python-dateutil->numerapi) (1.12.0)\n",
      "Requirement already satisfied: urllib3!=1.25.0,!=1.25.1,<1.26,>=1.21.1 in /Users/lucas/opt/anaconda3/lib/python3.7/site-packages (from requests->numerapi) (1.25.11)\n",
      "Requirement already satisfied: certifi>=2017.4.17 in /Users/lucas/opt/anaconda3/lib/python3.7/site-packages (from requests->numerapi) (2019.9.11)\n",
      "Requirement already satisfied: chardet<3.1.0,>=3.0.2 in /Users/lucas/opt/anaconda3/lib/python3.7/site-packages (from requests->numerapi) (3.0.4)\n",
      "Requirement already satisfied: idna<2.9,>=2.5 in /Users/lucas/opt/anaconda3/lib/python3.7/site-packages (from requests->numerapi) (2.8)\n",
      "Requirement already satisfied: ondemand in /Users/lucas/opt/anaconda3/lib/python3.7/site-packages (1.1.1)\n",
      "Requirement already satisfied: requests>=2.3.0 in /Users/lucas/opt/anaconda3/lib/python3.7/site-packages (from ondemand) (2.22.0)\n",
      "Requirement already satisfied: urllib3!=1.25.0,!=1.25.1,<1.26,>=1.21.1 in /Users/lucas/opt/anaconda3/lib/python3.7/site-packages (from requests>=2.3.0->ondemand) (1.25.11)\n",
      "Requirement already satisfied: certifi>=2017.4.17 in /Users/lucas/opt/anaconda3/lib/python3.7/site-packages (from requests>=2.3.0->ondemand) (2019.9.11)\n",
      "Requirement already satisfied: idna<2.9,>=2.5 in /Users/lucas/opt/anaconda3/lib/python3.7/site-packages (from requests>=2.3.0->ondemand) (2.8)\n",
      "Requirement already satisfied: chardet<3.1.0,>=3.0.2 in /Users/lucas/opt/anaconda3/lib/python3.7/site-packages (from requests>=2.3.0->ondemand) (3.0.4)\n",
      "Requirement already satisfied: py_vollib in /Users/lucas/opt/anaconda3/lib/python3.7/site-packages (1.0.1)\n",
      "Requirement already satisfied: simplejson in /Users/lucas/opt/anaconda3/lib/python3.7/site-packages (from py_vollib) (3.17.2)\n",
      "Requirement already satisfied: pandas in /Users/lucas/opt/anaconda3/lib/python3.7/site-packages (from py_vollib) (0.25.1)\n",
      "Requirement already satisfied: numpy in /Users/lucas/opt/anaconda3/lib/python3.7/site-packages (from py_vollib) (1.17.2)\n",
      "Requirement already satisfied: py-lets-be-rational in /Users/lucas/opt/anaconda3/lib/python3.7/site-packages (from py_vollib) (1.0.1)\n",
      "Requirement already satisfied: scipy in /Users/lucas/opt/anaconda3/lib/python3.7/site-packages (from py_vollib) (1.4.1)\n",
      "Requirement already satisfied: pytz>=2017.2 in /Users/lucas/opt/anaconda3/lib/python3.7/site-packages (from pandas->py_vollib) (2019.3)\n",
      "Requirement already satisfied: python-dateutil>=2.6.1 in /Users/lucas/opt/anaconda3/lib/python3.7/site-packages (from pandas->py_vollib) (2.8.0)\n",
      "Requirement already satisfied: six>=1.5 in /Users/lucas/opt/anaconda3/lib/python3.7/site-packages (from python-dateutil>=2.6.1->pandas->py_vollib) (1.12.0)\n",
      "Requirement already satisfied: selenium in /Users/lucas/opt/anaconda3/lib/python3.7/site-packages (3.141.0)\n",
      "Requirement already satisfied: urllib3 in /Users/lucas/opt/anaconda3/lib/python3.7/site-packages (from selenium) (1.25.11)\n"
     ]
    },
    {
     "ename": "ModuleNotFoundError",
     "evalue": "No module named 'config'",
     "output_type": "error",
     "traceback": [
      "\u001b[0;31m---------------------------------------------------------------------------\u001b[0m",
      "\u001b[0;31mModuleNotFoundError\u001b[0m                       Traceback (most recent call last)",
      "\u001b[0;32m<ipython-input-1-e1e5b29f1f62>\u001b[0m in \u001b[0;36m<module>\u001b[0;34m\u001b[0m\n\u001b[1;32m     12\u001b[0m \u001b[0;32mimport\u001b[0m \u001b[0mmath\u001b[0m\u001b[0;34m\u001b[0m\u001b[0;34m\u001b[0m\u001b[0m\n\u001b[1;32m     13\u001b[0m \u001b[0;32mimport\u001b[0m \u001b[0mshutil\u001b[0m\u001b[0;34m\u001b[0m\u001b[0;34m\u001b[0m\u001b[0m\n\u001b[0;32m---> 14\u001b[0;31m \u001b[0;32mimport\u001b[0m \u001b[0mconfig\u001b[0m\u001b[0;34m\u001b[0m\u001b[0;34m\u001b[0m\u001b[0m\n\u001b[0m\u001b[1;32m     15\u001b[0m \u001b[0;32mimport\u001b[0m \u001b[0mrandom\u001b[0m\u001b[0;34m\u001b[0m\u001b[0;34m\u001b[0m\u001b[0m\n\u001b[1;32m     16\u001b[0m \u001b[0;32mimport\u001b[0m \u001b[0mpickle\u001b[0m\u001b[0;34m\u001b[0m\u001b[0;34m\u001b[0m\u001b[0m\n",
      "\u001b[0;31mModuleNotFoundError\u001b[0m: No module named 'config'"
     ]
    }
   ],
   "source": [
    "# import relevant libraries\n",
    "!pip install numerapi\n",
    "!pip install ondemand\n",
    "!pip install py_vollib\n",
    "!pip install selenium\n",
    "import os\n",
    "import re\n",
    "import sys\n",
    "import glob\n",
    "import json\n",
    "import time\n",
    "import math\n",
    "import shutil\n",
    "import config\n",
    "import random\n",
    "import pickle\n",
    "import ondemand\n",
    "import numerapi\n",
    "import datetime\n",
    "import py_vollib\n",
    "import numpy as np\n",
    "import scipy as sp\n",
    "import pandas as pd\n",
    "import requests as rq\n",
    "import seaborn as sns\n",
    "import statsmodels.api as sm\n",
    "import matplotlib.pyplot as plt\n",
    "from os import system   \n",
    "from math import floor\n",
    "from scipy import stats\n",
    "from copy import deepcopy\n",
    "from datetime import datetime\n",
    "from sklearn import linear_model\n",
    "from sklearn import neural_network\n",
    "from bs4 import BeautifulSoup as bs\n",
    "from sklearn.decomposition import PCA\n",
    "from statsmodels.formula.api import ols\n",
    "from sklearn import metrics as sklMetrics\n",
    "from sklearn.decomposition import TruncatedSVD\n",
    "from sklearn.model_selection import train_test_split\n",
    "from sklearn.preprocessing import StandardScaler, RobustScaler, MinMaxScaler\n",
    "\n",
    "plt.style.use('seaborn')\n",
    "%matplotlib inline\n",
    "pd.set_option('display.max_columns', 1000)\n",
    "pd.set_option('display.max_rows', 1000)\n",
    "pd.set_option('display.max_columns', 200)\n",
    "pd.set_option('display.max_colwidth', 200)"
   ]
  },
  {
   "cell_type": "code",
   "execution_count": null,
   "metadata": {},
   "outputs": [],
   "source": [
    "# download the latest training dataset (~120 sec to run)\n",
    "training_data = pd.read_csv(\"https://numerai-public-datasets.s3-us-west-2.amazonaws.com/latest_numerai_training_data.csv.xz\")\n",
    "training_data.head()"
   ]
  },
  {
   "cell_type": "code",
   "execution_count": null,
   "metadata": {},
   "outputs": [],
   "source": [
    "# download the latest tournament dataset (~120 sec to run)\n",
    "tournament_data = pd.read_csv(\"https://numerai-public-datasets.s3-us-west-2.amazonaws.com/latest_numerai_tournament_data.csv.xz\")\n",
    "tournament_data.head()"
   ]
  },
  {
   "cell_type": "code",
   "execution_count": null,
   "metadata": {},
   "outputs": [],
   "source": [
    "# find only the feature columns\n",
    "feature_cols = training_data.columns[training_data.columns.str.startswith('feature')]"
   ]
  },
  {
   "cell_type": "code",
   "execution_count": null,
   "metadata": {},
   "outputs": [],
   "source": [
    "# select those columns out of the training dataset\n",
    "training_features = training_data[feature_cols]"
   ]
  },
  {
   "cell_type": "code",
   "execution_count": null,
   "metadata": {},
   "outputs": [],
   "source": [
    "# create a model and fit the training data (~30 sec to run)\n",
    "model = neural_network.MLPRegressor(max_iter=500).fit(training_features, training_data.target)"
   ]
  },
  {
   "cell_type": "code",
   "execution_count": null,
   "metadata": {},
   "outputs": [],
   "source": [
    "# select the feature columns from the tournament data\n",
    "live_features = tournament_data[feature_cols]"
   ]
  },
  {
   "cell_type": "code",
   "execution_count": null,
   "metadata": {},
   "outputs": [],
   "source": [
    "# predict the target on the live features\n",
    "predictions = model.predict(live_features)"
   ]
  },
  {
   "cell_type": "code",
   "execution_count": null,
   "metadata": {},
   "outputs": [],
   "source": [
    "# predictions must have an `id` column and a `prediction_kazutsugi` column\n",
    "predictions_df = tournament_data[\"id\"].to_frame()\n",
    "predictions_df[\"prediction_kazutsugi\"] = predictions\n",
    "predictions_df.head()"
   ]
  },
  {
   "cell_type": "code",
   "execution_count": null,
   "metadata": {},
   "outputs": [],
   "source": [
    "# Get your API keys and model_id from https://numer.ai/submit\n",
    "public_id = config.NuMeRaiPubKey\n",
    "secret_key = config.NuMeRaiSecKey\n",
    "model_id = config.NuMeRaiModId   \n",
    "napi = numerapi.NumerAPI(public_id=public_id, secret_key=secret_key)"
   ]
  },
  {
   "cell_type": "code",
   "execution_count": null,
   "metadata": {},
   "outputs": [],
   "source": [
    "# Upload your predictions\n",
    "predictions_df.to_csv(\"predictions.csv\", index=False)\n",
    "submission_id = napi.upload_predictions(\"predictions.csv\", model_id=model_id)"
   ]
  }
 ],
 "metadata": {
  "kernelspec": {
   "display_name": "Python 3",
   "language": "python",
   "name": "python3"
  },
  "language_info": {
   "codemirror_mode": {
    "name": "ipython",
    "version": 3
   },
   "file_extension": ".py",
   "mimetype": "text/x-python",
   "name": "python",
   "nbconvert_exporter": "python",
   "pygments_lexer": "ipython3",
   "version": "3.7.4"
  }
 },
 "nbformat": 4,
 "nbformat_minor": 2
}
